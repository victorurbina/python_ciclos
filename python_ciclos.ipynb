{
 "cells": [
  {
   "cell_type": "code",
   "execution_count": 1,
   "metadata": {},
   "outputs": [
    {
     "name": "stdout",
     "output_type": "stream",
     "text": [
      "H\n",
      "o\n",
      "l\n",
      "a\n"
     ]
    }
   ],
   "source": [
    "for i in \"Hola\":\n",
    "    print(i)"
   ]
  },
  {
   "cell_type": "code",
   "execution_count": 7,
   "metadata": {},
   "outputs": [
    {
     "name": "stdout",
     "output_type": "stream",
     "text": [
      "1\n",
      "2\n",
      "3\n",
      "4\n",
      "5\n",
      "6\n",
      "7\n",
      "8\n",
      "9\n",
      "10\n"
     ]
    }
   ],
   "source": [
    "#Mostrar con un for los números del 1 al 10.\n",
    "for i in range(1,11):\n",
    "    print(i)"
   ]
  },
  {
   "cell_type": "code",
   "execution_count": 8,
   "metadata": {},
   "outputs": [
    {
     "name": "stdout",
     "output_type": "stream",
     "text": [
      "1era forma\n",
      "2\n",
      "4\n",
      "6\n",
      "8\n",
      "10\n",
      "\n",
      "2da forma\n",
      "2\n",
      "4\n",
      "6\n",
      "8\n",
      "10\n"
     ]
    }
   ],
   "source": [
    "#Mostrar los números pares entre 1 al 10.\n",
    "\n",
    "#1º forma\n",
    "print(\"1era forma\") \n",
    "for i in range(1,11):\n",
    "    if( (i%2)==0 ):\n",
    "        print(i) \n",
    "print(\"\") \n",
    "\n",
    "#2º forma \n",
    "print(\"2da forma\")\n",
    "for i in range(2,11,2):\n",
    "    print(i)"
   ]
  },
  {
   "cell_type": "code",
   "execution_count": 6,
   "metadata": {},
   "outputs": [
    {
     "data": {
      "text/plain": [
       "10"
      ]
     },
     "execution_count": 6,
     "metadata": {},
     "output_type": "execute_result"
    }
   ],
   "source": [
    "#sumar valores de una lista\n",
    "def sum (lista):\n",
    "    suma = 0\n",
    "    for i in lista:\n",
    "        suma += i\n",
    "    return suma\n",
    "sum([1,2,3,4])"
   ]
  },
  {
   "cell_type": "code",
   "execution_count": 5,
   "metadata": {},
   "outputs": [
    {
     "data": {
      "text/plain": [
       "24"
      ]
     },
     "execution_count": 5,
     "metadata": {},
     "output_type": "execute_result"
    }
   ],
   "source": [
    "#multiplicar valores de una lista\n",
    "def mul (lista):\n",
    "    mul = 1\n",
    "    for i in lista:\n",
    "        mul *= i\n",
    "    return mul\n",
    "mul([1,2,3,4])"
   ]
  },
  {
   "cell_type": "code",
   "execution_count": 2,
   "metadata": {},
   "outputs": [
    {
     "name": "stdout",
     "output_type": "stream",
     "text": [
      "54\n",
      "Introduce el número buscado: 5\n",
      "El número que buscas es mayor\n",
      "Introduce el número buscado: 15\n",
      "El número que buscas es mayor\n",
      "Introduce el número buscado: 25\n",
      "El número que buscas es mayor\n",
      "Introduce el número buscado: 35\n",
      "El número que buscas es mayor\n",
      "Introduce el número buscado: 45\n",
      "El número que buscas es mayor\n",
      "Introduce el número buscado: 55\n",
      "El número que buscas es menor\n",
      "Introduce el número buscado: 50\n",
      "El número que buscas es mayor\n",
      "Introduce el número buscado: 53\n",
      "El número que buscas es mayor\n",
      "Introduce el número buscado: 54\n",
      "Has acertado el número correcto es  54 te ha llevado  8  intentos ganar en este juego.\n"
     ]
    }
   ],
   "source": [
    "#Adivina el número entre 1 y 10. \n",
    "from random import * \n",
    "\n",
    "def generaNumeroAleatorio(minimo,maximo):\n",
    "    try: \n",
    "        if minimo > maximo:\n",
    "            aux = minimo\n",
    "            minimo = maximo\n",
    "            maximo = aux\n",
    "        return randint(minimo, maximo)\n",
    "    except TypeError:\n",
    "        print(\"Debes escribir números\")\n",
    "        return -1 \n",
    "\n",
    "numero_buscado = generaNumeroAleatorio(1,100)\n",
    "print(numero_buscado)\n",
    "encontrado = False\n",
    "intentos = 0\n",
    "while not encontrado:\n",
    "    numero_usuario = int(input(\"Introduce el número buscado: \"))\n",
    "    if numero_usuario > numero_buscado:\n",
    "        print(\"El número que buscas es menor\")\n",
    "        intentos = intentos +1\n",
    "    elif numero_usuario < numero_buscado:\n",
    "        print(\"El número que buscas es mayor\")\n",
    "        intentos = intentos +1 \n",
    "    else: \n",
    "        encontrado = True \n",
    "        print(\"Has acertado el número correcto es \", numero_usuario, \"te ha llevado \", intentos,\" intentos ganar en este juego.\")"
   ]
  },
  {
   "cell_type": "code",
   "execution_count": null,
   "metadata": {},
   "outputs": [],
   "source": [
    "#Usar un while para mostrar los números del 1 al 10. \n",
    "i = 1\n",
    "while(i<=10):\n",
    "    print(i)\n",
    "    i+=1\n",
    "print(\"Fin del bucle\")"
   ]
  },
  {
   "cell_type": "code",
   "execution_count": null,
   "metadata": {},
   "outputs": [],
   "source": [
    "#Programa calculadora\n",
    "# Declaricion de variables\n",
    "opcion = 0\n",
    "\n",
    "#Declaracion de Funciones1\n",
    "def suma(a, b):\n",
    "    return str(a + b)\n",
    "\n",
    "def resta(a,b):\n",
    "    return str(a - b)\n",
    "\n",
    "def multiplicar(a,b):\n",
    "    return str(a * b)\n",
    "\n",
    "def dividir(a,b):\n",
    "    return str(a / b)\n",
    "\n",
    "#Inicio del programa\n",
    "\n",
    "while ('5' != opcion):\n",
    "    opcion = input('''Por favor seleccione una operacion:\n",
    "     1 Sumar\n",
    "     2 Restar\n",
    "     3 Multiplicar\n",
    "     4 Dividir\n",
    "     5 Salir\n",
    "     ''')\n",
    "\n",
    "    if (opcion == '1'):\n",
    "        Dato1 = input('''Primer sumando: ''')\n",
    "        Dato2 = input('''Segundo sumando: ''')\n",
    "        print (\"Resulta de \"+Dato1 +\" + \"+ Dato2+ \": \"+suma(int(Dato1),int(Dato2)))\n",
    "    elif opcion == '2':\n",
    "        Dato1 = input('''Minuendo: ''')\n",
    "        Dato2 = input('''Sustraendo: ''')\n",
    "        suma(Dato1,Dato2)\n",
    "        print(\"Resulta de \" + Dato1 + \" - \" + Dato2 + \": \" + resta(int(Dato1), int(Dato2)))\n",
    "    elif opcion == '3':\n",
    "        Dato1 = input('''Multiplicando: ''')\n",
    "        Dato2 = input('''Multiplicador: ''')\n",
    "        suma(Dato1,Dato2)\n",
    "        print(\"Resulta de \" + Dato1 + \" * \" + Dato2 + \": \" + multiplicar(int(Dato1), int(Dato2)))\n",
    "    elif opcion == '4':\n",
    "        Dato1 = input('''Dividendo: ''')\n",
    "        Dato2 = input('''Divisor: ''')\n",
    "        suma(Dato1,Dato2)\n",
    "        print(\"Resulta de \" + Dato1 + \" / \" + Dato2 + \": \" + dividir(float(Dato1), float(Dato2)))\n",
    "    elif opcion == '0' or opcion>'5':\n",
    "        print(\"Opcion incorrecta\")\n",
    "    if (opcion!= '5'):\n",
    "        input(\"Pulse Enter para continuar...\")\n",
    "\n",
    "print('Fin del programa') "
   ]
  },
  {
   "cell_type": "code",
   "execution_count": null,
   "metadata": {},
   "outputs": [],
   "source": []
  }
 ],
 "metadata": {
  "kernelspec": {
   "display_name": "Python 3",
   "language": "python",
   "name": "python3"
  },
  "language_info": {
   "codemirror_mode": {
    "name": "ipython",
    "version": 3
   },
   "file_extension": ".py",
   "mimetype": "text/x-python",
   "name": "python",
   "nbconvert_exporter": "python",
   "pygments_lexer": "ipython3",
   "version": "3.7.3"
  }
 },
 "nbformat": 4,
 "nbformat_minor": 2
}
